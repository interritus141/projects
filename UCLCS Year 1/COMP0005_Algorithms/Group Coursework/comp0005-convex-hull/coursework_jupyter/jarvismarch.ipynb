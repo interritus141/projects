{
 "cells": [
  {
   "cell_type": "markdown",
   "metadata": {},
   "source": [
    "# Jarvis march algorithm"
   ]
  },
  {
   "cell_type": "markdown",
   "metadata": {},
   "source": [
    "Use the cell below for all python code needed to realise the Jarvis march algorithm (including any auxiliary data structures and functions you might need). The `jarvismarch()` function itself should take as input parameter a list of 2D points (`inputSet`), and return the subset of such points (`outputSet`) that lie on the convex hull."
   ]
  },
  {
   "cell_type": "code",
   "execution_count": null,
   "metadata": {},
   "outputs": [],
   "source": [
    "# Looking for the point with the lowest x-coordinate. If more than 1 point found, take the one with the highest y-coordinate.\n",
    "def findLeftMost(listofPoints): \n",
    "    leftmost = 0\n",
    "    for i in range(1,len(listofPoints)):\n",
    "        if listofPoints[i][0] < listofPoints[leftmost][0]:\n",
    "            leftmost = i\n",
    "        elif listofPoints[i][0] == listofPoints[leftmost][0]:\n",
    "            if listofPoints[i][1] > listofPoints[leftmost][1]:\n",
    "                leftmost = i\n",
    "    return listofPoints[leftmost]\n",
    "\n",
    "# Function returning cross product of two vectors\n",
    "def crossProduct(a, b, c):\n",
    "    x1 = a[0] - b[0]\n",
    "    x2 = a[0] - c[0]\n",
    "    y1 = a[1] - b[1]\n",
    "    y2 = a[1] - c[1]\n",
    "    if (y2*x1 - y1*x2 == 0):\n",
    "        return 0\n",
    "    elif (y2*x1 - y1*x2 < 0):\n",
    "        # point c is clockwise to point b\n",
    "        return 2\n",
    "    else:\n",
    "        # point c is anticlockwise to point b\n",
    "        return 1 \n",
    "\n",
    "# Function running jarvis march, taking a list of points as input and returning the list of points on the convex hull.\n",
    "def jarvismarch(inputSet):\n",
    "    pointOnHull = findLeftMost(inputSet)\n",
    "    hull = []\n",
    "    i = 0\n",
    "    while True:\n",
    "        hull.append(pointOnHull)\n",
    "        endpoint = inputSet[0]\n",
    "        for j in range (len(inputSet)):\n",
    "            if (endpoint == pointOnHull) or (crossProduct(hull[i], endpoint, inputSet[j]) == 2):\n",
    "                endpoint = inputSet[j]\n",
    "        i += 1\n",
    "        pointOnHull = endpoint\n",
    "        if endpoint == hull[0]:\n",
    "            break\n",
    "    return hull"
   ]
  },
  {
   "cell_type": "markdown",
   "metadata": {},
   "source": [
    "Use the cell below for all python code needed to generate test data points (both random and those representing worst-case scenario)."
   ]
  },
  {
   "source": [
    "import random, math\n",
    "\n",
    "#code for random data generation\n",
    "def generate_positive_int_points(num_of_points, x_max, y_max):\n",
    "    point_set = set()\n",
    "    while len(point_set) != num_of_points:\n",
    "        point = (random.randint(0,x_max), random.randint(0,y_max))\n",
    "        point_set.add(point)\n",
    "    \n",
    "    point_list = []\n",
    "    for x,y in point_set:\n",
    "        point_list.append([x,y])\n",
    "\n",
    "    return list(point_list)\n",
    "\n",
    "#code for worst case data generation, which in this case refers to all the input points being on the convex hull itself (e.g. points forming a circle).\n",
    "def points_on_circle(num):\n",
    "    point_set = set()\n",
    "    while len(point_set) != num:\n",
    "        angle = random.uniform(0,math.pi*2)\n",
    "        a = 32767\n",
    "        x_increase = a/2 * math.sin(angle) + a/2\n",
    "        y_increase = a/2 * math.cos(angle) + a/2\n",
    "        point = (int(x_increase), int(y_increase))\n",
    "        point_set.add(point)\n",
    "    \n",
    "    point_list = []\n",
    "    for x,y in point_set:\n",
    "        point_list.append([x,y])\n",
    "\n",
    "    return point_list\n"
   ],
   "cell_type": "code",
   "metadata": {},
   "execution_count": null,
   "outputs": []
  },
  {
   "cell_type": "markdown",
   "metadata": {},
   "source": [
    "Use the cell below for all python code needed to test the `jarvismarch()` function on the data generated above."
   ]
  },
  {
   "source": [
    "import timeit\n",
    "\n",
    "#test code\n",
    "N = [100, 500, 1000, 5000, 10000, 15000, 20000]\n",
    "iterations = 10\n",
    "time_jarvis_average = []\n",
    "time_jarvis_worst = []\n",
    "\n",
    "for i in N:\n",
    "    time_internal1 = []\n",
    "    time_internal2 = []\n",
    "    for _ in range(iterations):\n",
    "        generated_points = generate_positive_int_points(i, 32767, 32767)\n",
    "        start_time = timeit.default_timer()\n",
    "        hull = jarvismarch(generated_points)\n",
    "        timetaken = timeit.default_timer() - start_time\n",
    "        time_internal1.append(timetaken)\n",
    "\n",
    "        generated_points = points_on_circle(i)\n",
    "        start_time = timeit.default_timer()\n",
    "        hull = jarvismarch(generated_points)\n",
    "        timetaken = timeit.default_timer() - start_time\n",
    "        time_internal2.append(timetaken)\n",
    "\n",
    "    time_jarvis_average.append(sum(time_internal1)/len(time_internal1))\n",
    "    time_jarvis_worst.append(sum(time_internal2)/len(time_internal2))\n",
    "\n",
    "print(N)\n",
    "print(\"average case:\")\n",
    "print(time_jarvis_average)\n",
    "print(\"worst case:\")\n",
    "print(time_jarvis_worst)\n"
   ],
   "cell_type": "code",
   "metadata": {
    "tags": []
   },
   "execution_count": null,
   "outputs": []
  },
  {
   "cell_type": "markdown",
   "metadata": {},
   "source": [
    "*Optional*: Feel free to use the code below on small datasets (e.g., N = 10) to visually inspect whether the algorithm has been implemented correctly. The fragment below assumes both `inputSet` and `outputSet` to be lists of 2D points, with each point being a list of 2 elements (e.g., `[[x1,y1], [x2,y2], ..., [x_k,y_k]]`)"
   ]
  },
  {
   "source": [
    "import matplotlib.pyplot as plt\n",
    "\n",
    "# inputSet and outputSet should have been defined above. \n",
    "# uncomment the next two lines only if you wish to test the plotting code before coding your algorithm\n",
    "\n",
    "inputSet = generate_positive_int_points(10, 10, 10)\n",
    "# inputSet = points_on_circle(20)\n",
    "# outputSet = [[1,1], [3,1] , [4, 4], [3,5], [1,5]]\n",
    "\n",
    "outputSet = jarvismarch(inputSet)\n",
    "\n",
    "plt.figure()\n",
    "\n",
    "#first do a scatter plot of the inputSet\n",
    "input_xs, input_ys = zip(*inputSet)\n",
    "plt.scatter(input_xs, input_ys)\n",
    "\n",
    "#then do a polygon plot of the computed covex hull\n",
    "outputSet.append(outputSet[0]) #first create a 'closed loop' by adding the first point at the end of the list\n",
    "output_xs, output_ys = zip(*outputSet) \n",
    "plt.plot(output_xs, output_ys) \n",
    "\n",
    "plt.show() "
   ],
   "cell_type": "code",
   "metadata": {},
   "execution_count": null,
   "outputs": []
  },
  {
   "cell_type": "code",
   "execution_count": null,
   "metadata": {},
   "outputs": [],
   "source": []
  }
 ],
 "metadata": {
  "kernelspec": {
   "display_name": "Python 3",
   "language": "python",
   "name": "python3"
  },
  "language_info": {
   "codemirror_mode": {
    "name": "ipython",
    "version": 3
   },
   "file_extension": ".py",
   "mimetype": "text/x-python",
   "name": "python",
   "nbconvert_exporter": "python",
   "pygments_lexer": "ipython3",
   "version": "3.8.6-final"
  }
 },
 "nbformat": 4,
 "nbformat_minor": 4
}