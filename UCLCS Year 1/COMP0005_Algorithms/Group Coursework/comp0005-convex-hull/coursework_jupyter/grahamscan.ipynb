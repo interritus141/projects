{
 "cells": [
  {
   "cell_type": "markdown",
   "metadata": {},
   "source": [
    "# Graham scan algorithm"
   ]
  },
  {
   "cell_type": "markdown",
   "metadata": {},
   "source": [
    "Use the cell below for all python code needed to realise the Graham scan algorithm (including any auxiliary data structures and functions you might need). The `grahamscan()` function itself should take as input parameter a list of 2D points (`inputSet`), and return the subset of such points that lie on the convex hull (`outputSet`)."
   ]
  },
  {
   "cell_type": "code",
   "execution_count": null,
   "metadata": {},
   "outputs": [],
   "source": [
    "# Looking for the point with the lowest y-coordinate. If more than 1 point found, take the one with the lowest x-coordinate.\n",
    "def find_start(points):\n",
    "    start_point = points[0]\n",
    "    for point in points:\n",
    "        if point[1] < start_point[1]:\n",
    "            start_point = point\n",
    "        elif point[1] == start_point[1] and point[0] < start_point[0]:\n",
    "            start_point = point\n",
    "    return start_point\n",
    "\n",
    "# Function returning tuple of cos value of an angle between start point and a given point and distance between these points\n",
    "def calculate_cos_dist(start_point, point):\n",
    "    hyp = calculate_dist(start_point, point)\n",
    "    return (-((point[0] - start_point[0])/hyp), hyp)\n",
    "\n",
    "# Function returing a distance between the start point and a given point\n",
    "def calculate_dist(start_point, point):\n",
    "    return ((point[0] - start_point[0]) ** 2 + (point[1] - start_point[1]) ** 2) ** (1/2)\n",
    "\n",
    "# Function returning cross product of two vectors (p1p2 x p1p3)\n",
    "def cross_product(p1, p2, p3):\n",
    "    return (p2[0] - p1[0])*(p3[1] - p1[1]) - (p2[1] - p1[1])*(p3[0] - p1[0])\n",
    "\n",
    "# Graham scan of already sorted points\n",
    "def graham(start_point, points):\n",
    "    stack = []\n",
    "    stack.append(start_point)\n",
    "    for point in points:\n",
    "        while len(stack) > 1 and cross_product(stack[-2], stack[-1], point) <= 0:\n",
    "            stack.pop()\n",
    "        stack.append(point)\n",
    "    return stack\n",
    "\n",
    "# Encapsulating function taking inputSet of points, calculating the first point, sorting points and running graham scan on them\n",
    "def grahamscan(inputSet):\n",
    "    start_point = find_start(inputSet)\n",
    "    inputSet.remove(start_point)\n",
    "    # inputSet.sort(key = lambda p: calculate_cos_dist(start_point, p), reverse = True)\n",
    "    inputSet.sort(key = lambda p: calculate_cos_dist(start_point, p))\n",
    "\n",
    "    return graham(start_point, inputSet)\n"
   ]
  },
  {
   "cell_type": "markdown",
   "metadata": {},
   "source": [
    "Use the cell below for all python code needed to generate test data points (both random and those representing worst-case scenario)."
   ]
  },
  {
   "cell_type": "code",
   "execution_count": null,
   "metadata": {},
   "outputs": [],
   "source": [
    "import random\n",
    "\n",
    "#code for random data generation\n",
    "def generate_positive_int_points(num_of_points, x_max, y_max):\n",
    "    point_set = set()\n",
    "    while len(point_set) != num_of_points:\n",
    "        point = (random.randint(0,x_max), random.randint(0,y_max))\n",
    "        point_set.add(point)\n",
    "    \n",
    "    point_list = []\n",
    "    for x,y in point_set:\n",
    "        point_list.append([x,y])\n",
    "\n",
    "    return list(point_list)\n",
    "\n",
    "#code for worst case data generation\n",
    "\n"
   ]
  },
  {
   "cell_type": "markdown",
   "metadata": {},
   "source": [
    "Use the cell below for all python code needed to test the `grahamscan()` function on the data generated above."
   ]
  },
  {
   "cell_type": "code",
   "execution_count": null,
   "metadata": {},
   "outputs": [],
   "source": [
    "import timeit\n",
    "\n",
    "#test code\n",
    "elements = [100, 500, 1000, 5000, 10000, 15000, 20000] # List of numbers of points\n",
    "time_graham = [] # List for time results\n",
    "it_num = 100 # Numbers of iterations for every number of points\n",
    "\n",
    "for x in elements:    \n",
    "    internal_time_list = []\n",
    "\n",
    "    for _ in range(it_num): # For every number of points run graham it_num times with a different random inputset\n",
    "        points = generate_positive_int_points(x, 32767, 32767) # Generate points\n",
    "        start_time = timeit.default_timer()\n",
    "        grahamscan(points) # Run graham scan\n",
    "        end_time = timeit.default_timer()\n",
    "        internal_time_list.append(end_time - start_time) # Adding time of each iteration to the list\n",
    "\n",
    "    time_graham.append(sum(internal_time_list) / it_num) # Calculating the average time of all iterations\n",
    "\n",
    "    print(x, time_graham[-1])\n",
    "\n",
    "print(elements)\n",
    "print(time_graham)"
   ]
  },
  {
   "cell_type": "markdown",
   "metadata": {},
   "source": [
    "*Oprional*: Feel free to use the code below on small datasets (e.g., N = 10) to visually inspect whether the algorithm has been implemented correctly. The fragment below assumes both `inputSet` and `outputSet` to be lists of 2D points, with each point being a list of 2 elements (e.g., `[[x1,y1], [x2,y2], ..., [x_k,y_k]]`)"
   ]
  },
  {
   "cell_type": "code",
   "execution_count": null,
   "metadata": {},
   "outputs": [],
   "source": [
    "import matplotlib.pyplot as plt\n",
    "\n",
    "# inputSet and outputSet should have been defined above. \n",
    "# uncomment the next two lines only if you wish to test the plotting code before coding your algorithm\n",
    "\n",
    "# inputSet = [[1,1], [2,2] , [3, 3], [4,4], [1,4], [3,1], [1, 5], [2, 4], [3, 5]]\n",
    "# outputSet = [[1,1], [3,1] , [4, 4], [3,5], [1,5]]\n",
    "inputSet = generate_positive_int_points(200, 32767, 32767)\n",
    "plt.figure()\n",
    "\n",
    "#first do a scatter plot of the inputSet\n",
    "input_xs, input_ys = zip(*inputSet)\n",
    "plt.scatter(input_xs, input_ys)\n",
    "outputSet = grahamscan(inputSet)\n",
    "\n",
    "#then do a polygon plot of the computed covex hull\n",
    "outputSet.append(outputSet[0]) #first create a 'closed loop' by adding the first point at the end of the list\n",
    "output_xs, output_ys = zip(*outputSet) \n",
    "plt.plot(output_xs, output_ys) \n",
    "\n",
    "plt.show() "
   ]
  },
  {
   "cell_type": "code",
   "execution_count": null,
   "metadata": {},
   "outputs": [],
   "source": []
  }
 ],
 "metadata": {
  "kernelspec": {
   "display_name": "Python 3",
   "language": "python",
   "name": "python3"
  },
  "language_info": {
   "codemirror_mode": {
    "name": "ipython",
    "version": 3
   },
   "file_extension": ".py",
   "mimetype": "text/x-python",
   "name": "python",
   "nbconvert_exporter": "python",
   "pygments_lexer": "ipython3",
   "version": "3.8.6-final"
  }
 },
 "nbformat": 4,
 "nbformat_minor": 4
}